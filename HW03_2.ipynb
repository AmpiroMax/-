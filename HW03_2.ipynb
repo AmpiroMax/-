{
  "nbformat": 4,
  "nbformat_minor": 0,
  "metadata": {
    "kernelspec": {
      "display_name": "Python 3",
      "language": "python",
      "name": "python3"
    },
    "language_info": {
      "codemirror_mode": {
        "name": "ipython",
        "version": 3
      },
      "file_extension": ".py",
      "mimetype": "text/x-python",
      "name": "python",
      "nbconvert_exporter": "python",
      "pygments_lexer": "ipython3",
      "version": "3.8.3"
    },
    "colab": {
      "name": "HW03.ipynb",
      "provenance": [],
      "collapsed_sections": [],
      "include_colab_link": true
    }
  },
  "cells": [
    {
      "cell_type": "markdown",
      "metadata": {
        "id": "view-in-github",
        "colab_type": "text"
      },
      "source": [
        "<a href=\"https://colab.research.google.com/github/AmpiroMax/-/blob/master/HW03_2.ipynb\" target=\"_parent\"><img src=\"https://colab.research.google.com/assets/colab-badge.svg\" alt=\"Open In Colab\"/></a>"
      ]
    },
    {
      "cell_type": "markdown",
      "metadata": {
        "id": "rGRQOy4kxGMa"
      },
      "source": [
        "# ДЗ №3 \n",
        "## Обучение моделей глубокого обучения на PyTorch"
      ]
    },
    {
      "cell_type": "code",
      "metadata": {
        "id": "h-UHDMjbxGMd"
      },
      "source": [
        "import torch\n",
        "import torchvision\n",
        "import numpy as np\n",
        "import matplotlib.pyplot as plt\n",
        "\n",
        "from typing import Tuple, List, Type, Dict, Any"
      ],
      "execution_count": 3,
      "outputs": []
    },
    {
      "cell_type": "code",
      "metadata": {
        "id": "L5ZSdbtKxGMf"
      },
      "source": [
        "torch.manual_seed(0)\n",
        "np.random.seed(0)\n",
        "torch.backends.cudnn.deterministic = True\n",
        "torch.backends.cudnn.benchmark = False"
      ],
      "execution_count": 4,
      "outputs": []
    },
    {
      "cell_type": "code",
      "metadata": {
        "id": "iSWhgc6FxGMh"
      },
      "source": [
        "class Perceptron(torch.nn.Module):\n",
        "    \n",
        "    def __init__(self, \n",
        "                 input_resolution: Tuple[int, int] = (28, 28),\n",
        "                 input_channels: int = 1, \n",
        "                 hidden_layer_features: List[int] = [256, 256, 256],\n",
        "                 activation: Type[torch.nn.Module] = torch.nn.ReLU,\n",
        "                 num_classes: int = 10):\n",
        "\n",
        "        super().__init__()\n",
        "        \n",
        "        self.layer_1 = torch.nn.Linear(in_features=784, out_features=256, bias=True)\n",
        "        self.activation_1 = activation()\n",
        "        self.layer_2 = torch.nn.Linear(in_features=256, out_features=128, bias=True)\n",
        "        self.activation_2 = activation()\n",
        "        self.layer_3 = torch.nn.Linear(in_features=128, out_features=64, bias=True)\n",
        "        self.activation_3 = activation()\n",
        "        self.layer_4 = torch.nn.Linear(in_features=64, out_features=num_classes, bias=True)\n",
        "        \n",
        "    \n",
        "    def forward(self, x):\n",
        "        x = self.layer_1(x)\n",
        "        x = self.activation_1(x)\n",
        "        x = self.layer_2(x)\n",
        "        x = self.activation_2(x)\n",
        "        x = self.layer_3(x)\n",
        "        x = self.activation_3(x)\n",
        "        x = self.layer_4(x)\n",
        "        return x"
      ],
      "execution_count": 5,
      "outputs": []
    },
    {
      "cell_type": "code",
      "metadata": {
        "colab": {
          "base_uri": "https://localhost:8080/"
        },
        "id": "Uv7gx6kxxGMi",
        "outputId": "39bdb5cf-5ff3-4f55-9c5f-fffd4e67dc53"
      },
      "source": [
        "model = Perceptron()\n",
        "print(model)\n",
        "print('Total number of trainable parameters', \n",
        "      sum(p.numel() for p in model.parameters() if p.requires_grad))"
      ],
      "execution_count": 6,
      "outputs": [
        {
          "output_type": "stream",
          "text": [
            "Perceptron(\n",
            "  (layer_1): Linear(in_features=784, out_features=256, bias=True)\n",
            "  (activation_1): ReLU()\n",
            "  (layer_2): Linear(in_features=256, out_features=128, bias=True)\n",
            "  (activation_2): ReLU()\n",
            "  (layer_3): Linear(in_features=128, out_features=64, bias=True)\n",
            "  (activation_3): ReLU()\n",
            "  (layer_4): Linear(in_features=64, out_features=10, bias=True)\n",
            ")\n",
            "Total number of trainable parameters 242762\n"
          ],
          "name": "stdout"
        }
      ]
    },
    {
      "cell_type": "code",
      "metadata": {
        "id": "tpiG6E0vxGMm"
      },
      "source": [
        "train_transforms = torchvision.transforms.Compose([                                                 \n",
        "    torchvision.transforms.RandomRotation(24),   \n",
        "    torchvision.transforms.ToTensor(),\n",
        "    torchvision.transforms.Normalize((0, ), (0.3, ))\n",
        "])\n",
        "        \n",
        "\n",
        "val_transforms = torchvision.transforms.Compose([\n",
        "    torchvision.transforms.ToTensor(),\n",
        "    torchvision.transforms.Normalize((0, ), (0.3, ))\n",
        "])"
      ],
      "execution_count": 7,
      "outputs": []
    },
    {
      "cell_type": "code",
      "metadata": {
        "id": "frwLYqE_xGMm"
      },
      "source": [
        "train_dataset = torchvision.datasets.MNIST(root='./mnist', \n",
        "                                           train=True, \n",
        "                                           download=True,\n",
        "                                           transform=train_transforms)\n",
        "\n",
        "val_dataset = torchvision.datasets.MNIST(root='./mnist', \n",
        "                                         train=False, \n",
        "                                         download=True,\n",
        "                                         transform=val_transforms)"
      ],
      "execution_count": null,
      "outputs": []
    },
    {
      "cell_type": "code",
      "metadata": {
        "id": "sIRUJnc3xGMn"
      },
      "source": [
        "indices = np.random.randint(0, len(train_dataset), size=16)\n",
        "\n",
        "fig, axes = plt.subplots(nrows=4, ncols=4, figsize=(32, 32))\n",
        "for i, row in enumerate(axes):\n",
        "    for j, ax in enumerate(row):\n",
        "        sample_index = indices[i*4+j]\n",
        "        sample, label = train_dataset[sample_index]\n",
        "        ax.imshow(sample[0])\n",
        "        ax.set_title(label)"
      ],
      "execution_count": null,
      "outputs": []
    },
    {
      "cell_type": "code",
      "metadata": {
        "id": "_5VVGvdrxGMo"
      },
      "source": [
        "def train_model(model: torch.nn.Module, \n",
        "                train_dataset: torch.utils.data.Dataset,\n",
        "                val_dataset: torch.utils.data.Dataset,\n",
        "                loss_function: torch.nn.Module = torch.nn.CrossEntropyLoss(),\n",
        "                optimizer_class: Type[torch.optim.Optimizer] = torch.optim,\n",
        "                optimizer_params: Dict = {},\n",
        "                initial_lr = 0.01,\n",
        "                lr_scheduler_class: Any = torch.optim.lr_scheduler.ReduceLROnPlateau,\n",
        "                lr_scheduler_params: Dict = {},\n",
        "                batch_size = 64,\n",
        "                max_epochs = 1000,\n",
        "                early_stopping_patience = 20):\n",
        "    optimizer = torch.optim.Adam(model.parameters(), lr=initial_lr, **optimizer_params)\n",
        "    lr_scheduler = lr_scheduler_class(optimizer, **lr_scheduler_params)\n",
        "    \n",
        "    train_loader = torch.utils.data.DataLoader(train_dataset, shuffle=True, batch_size=batch_size)\n",
        "    val_loader = torch.utils.data.DataLoader(val_dataset, batch_size=batch_size)\n",
        "\n",
        "    best_val_loss = None\n",
        "    best_epoch = None\n",
        "\n",
        "    for epoch in range(max_epochs):\n",
        "        \n",
        "        print(f'Epoch {epoch}')\n",
        "        \n",
        "        train_single_epoch(model, optimizer, loss_function, train_loader)\n",
        "        val_metrics = validate_single_epoch(model, loss_function, val_loader)\n",
        "\n",
        "        print(f'Validation metrics: \\n{val_metrics}')\n",
        "        \n",
        "        lr_scheduler.step(val_metrics['loss'])\n",
        "        \n",
        "        if best_val_loss is None or best_val_loss > val_metrics['loss']:\n",
        "            print(f'Best model yet, saving')\n",
        "            best_val_loss = val_metrics['loss']\n",
        "            best_epoch = epoch\n",
        "            torch.save(model, './best_model.pth')\n",
        "            \n",
        "        if epoch - best_epoch > early_stopping_patience:\n",
        "            print('Early stopping triggered')\n",
        "            return\n",
        "            "
      ],
      "execution_count": 10,
      "outputs": []
    },
    {
      "cell_type": "code",
      "metadata": {
        "id": "K-3ARuByxGMp"
      },
      "source": [
        "def train_single_epoch(model: torch.nn.Module,\n",
        "                       optimizer: torch.optim.Optimizer, \n",
        "                       loss_function: torch.nn.Module, \n",
        "                       data_loader: torch.utils.data.DataLoader):\n",
        "    loss = None\n",
        "    \"\"\"\n",
        "    У меня была идея связанная с тем, как сворачивать матрицу картинки в массив.\n",
        "    https://www.youtube.com/watch?v=3s7h2MHQtxc\n",
        "    Например, как показано в этом видеоролике, с помощью space filling curves, \n",
        "    мы смогли бы сохранить пространственное свойство картинок. \n",
        "\n",
        "    Однако, т.к. мы работаем с картинками одного и того же разрешения, нам это \n",
        "    никак не поможет. Но всё-таки идея, как мне кажется неплохая, поэтому я хотел бы узнать,\n",
        "    что вы думаете по этому поводу. Как сильно я ошибаюсь и в чем не прав.\n",
        "    \"\"\"\n",
        "    for x_batch, y_batch in data_loader:\n",
        "        x_batch = x_batch.view(x_batch.shape[0], -1)\n",
        "\n",
        "        y_pred = model(x_batch)\n",
        "        loss = loss_function(y_pred, y_batch)\n",
        "\n",
        "        optimizer.zero_grad()\n",
        "        loss.backward()\n",
        "        optimizer.step()\n",
        "    print(loss.item())\n"
      ],
      "execution_count": 11,
      "outputs": []
    },
    {
      "cell_type": "code",
      "metadata": {
        "id": "Vx_57dxixGMq"
      },
      "source": [
        "def validate_single_epoch(model: torch.nn.Module,\n",
        "                          loss_function: torch.nn.Module, \n",
        "                          data_loader: torch.utils.data.DataLoader):\n",
        "    loss_history = []\n",
        "    acc = 0\n",
        "\n",
        "    \n",
        "    for x_batch, y_batch in data_loader:\n",
        "        x_batch = x_batch.view(x_batch.shape[0], -1)\n",
        "\n",
        "        y_pred = model(x_batch)\n",
        "\n",
        "        loss = loss_function(y_pred, y_batch)\n",
        "        loss_history.append(loss.item())\n",
        "\n",
        "        for i, pred in enumerate(y_pred):\n",
        "            if torch.argmax(pred) == y_batch[i]:\n",
        "                acc += 1 \n",
        "    acc /= ((len(data_loader) - 1) * 64 + 32)\n",
        "\n",
        "    return {\"loss\": np.mean(loss_history), \"accuracy\": acc}\n",
        "    "
      ],
      "execution_count": 12,
      "outputs": []
    },
    {
      "cell_type": "code",
      "metadata": {
        "id": "KMg4_vM5xGMr"
      },
      "source": [
        "train_model(model, \n",
        "            train_dataset=train_dataset, \n",
        "            val_dataset=val_dataset, \n",
        "            loss_function=torch.nn.CrossEntropyLoss(), \n",
        "            initial_lr=0.01,\n",
        "            lr_scheduler_class = torch.optim.lr_scheduler.CosineAnnealingWarmRestarts,\n",
        "            lr_scheduler_params = {\"T_0\" : 100})\n",
        "\"\"\"\n",
        "Epoch 26\n",
        "0.029570918530225754\n",
        "Validation metrics: \n",
        "{'loss': 0.11119568567803859, 'accuracy': 0.9728434504792333}\n",
        "Best model yet, saving\n",
        "\"\"\""
      ],
      "execution_count": null,
      "outputs": []
    },
    {
      "cell_type": "code",
      "metadata": {
        "colab": {
          "base_uri": "https://localhost:8080/"
        },
        "id": "W0sem6z5xGMr",
        "outputId": "3930ae33-54d0-4ecc-b8d4-c288b3e8533d"
      },
      "source": [
        "train_model(model, \n",
        "            train_dataset=train_dataset, \n",
        "            val_dataset=val_dataset, \n",
        "            loss_function=torch.nn.CrossEntropyLoss(), \n",
        "            initial_lr=0.01,\n",
        "            lr_scheduler_class = torch.optim.lr_scheduler.StepLR,\n",
        "            lr_scheduler_params = {\"step_size\" : 50})"
      ],
      "execution_count": null,
      "outputs": [
        {
          "output_type": "stream",
          "text": [
            "Epoch 0\n",
            "0.33562055230140686\n",
            "Validation metrics: \n",
            "{'loss': 0.18662993043882084, 'accuracy': 0.9652555910543131}\n",
            "Best model yet, saving\n",
            "Epoch 1\n"
          ],
          "name": "stdout"
        },
        {
          "output_type": "stream",
          "text": [
            "/usr/local/lib/python3.7/dist-packages/torch/optim/lr_scheduler.py:154: UserWarning: The epoch parameter in `scheduler.step()` was not necessary and is being deprecated where possible. Please use `scheduler.step()` to step the scheduler. During the deprecation, if epoch is different from None, the closed form is used instead of the new chainable form, where available. Please open an issue if you are unable to replicate your use case: https://github.com/pytorch/pytorch/issues/new/choose.\n",
            "  warnings.warn(EPOCH_DEPRECATION_WARNING, UserWarning)\n"
          ],
          "name": "stderr"
        },
        {
          "output_type": "stream",
          "text": [
            "0.600625216960907\n",
            "Validation metrics: \n",
            "{'loss': 0.3049977846491109, 'accuracy': 0.9677515974440895}\n",
            "Epoch 2\n",
            "0.17935910820960999\n",
            "Validation metrics: \n",
            "{'loss': 0.21356027471910047, 'accuracy': 0.9493809904153354}\n",
            "Epoch 3\n",
            "0.15847311913967133\n",
            "Validation metrics: \n",
            "{'loss': 0.20856160427900447, 'accuracy': 0.9671525559105432}\n",
            "Epoch 4\n",
            "0.34319064021110535\n",
            "Validation metrics: \n",
            "{'loss': 0.17965705562857495, 'accuracy': 0.9666533546325878}\n",
            "Best model yet, saving\n",
            "Epoch 5\n",
            "0.1117159053683281\n",
            "Validation metrics: \n",
            "{'loss': 0.24383550380196445, 'accuracy': 0.9648562300319489}\n",
            "Epoch 6\n",
            "0.4035400450229645\n",
            "Validation metrics: \n",
            "{'loss': 0.18006124064492382, 'accuracy': 0.9525758785942492}\n",
            "Epoch 7\n",
            "0.001392271020449698\n",
            "Validation metrics: \n",
            "{'loss': 0.29028322020616787, 'accuracy': 0.9597643769968051}\n",
            "Epoch 8\n",
            "0.004625242203474045\n",
            "Validation metrics: \n",
            "{'loss': 0.16087036146960298, 'accuracy': 0.9652555910543131}\n",
            "Best model yet, saving\n",
            "Epoch 9\n",
            "0.1998017430305481\n",
            "Validation metrics: \n",
            "{'loss': 0.17711655314193125, 'accuracy': 0.9616613418530351}\n",
            "Epoch 10\n",
            "0.1699695587158203\n",
            "Validation metrics: \n",
            "{'loss': 0.19739981144548033, 'accuracy': 0.9575678913738019}\n",
            "Epoch 11\n"
          ],
          "name": "stdout"
        }
      ]
    },
    {
      "cell_type": "code",
      "metadata": {
        "id": "COkmEA2Fq77V"
      },
      "source": [
        ""
      ],
      "execution_count": null,
      "outputs": []
    }
  ]
}