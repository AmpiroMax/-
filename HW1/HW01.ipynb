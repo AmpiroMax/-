{
 "cells": [
  {
   "cell_type": "markdown",
   "metadata": {},
   "source": [
    "# ДЗ №1 - обучение модели линейной регресии методом градиентного спуска"
   ]
  },
  {
   "cell_type": "markdown",
   "metadata": {},
   "source": [
    "Реализовать обучение модели линейной регрессии методом градиентного спуска.<br />\n",
    "\n",
    "В качестве подводящего упражнения в этом задании предлагается реализовать функции потерь и саму модель линейной регрессии в манере, схожей с построением модулей фреймворка pytorch (см. пояснения в шаблонах кода)\n",
    "\n",
    "В решении ожидается наличие следующих ключевых составляющих:<br />\n",
    "\n",
    "#### Текстовое описание в решении:\n",
    "- формулировка задачи, формулировка признакового описания объектов, формулировка функции ошибки, формулировка меры качества модели;\n",
    "- исследование исходных данных на предмет скоррелированности признаков; фильтрация признаков; порождение признаков (при необходимости);\n",
    "- оценка параметров модели линейной регрессии (обучение модели) методом градиентного спуска;\n",
    "- оценка качества модели на валидационной выборке.\n",
    "\n",
    "#### Код решения:\n",
    "(используйте предлагаемые шаблоны)\n",
    "- формулировка модели линейной регрессии;\n",
    "- формулировка функции ошибки;\n",
    "- формулировка метрики (метрик);\n",
    "- формулировка цикла оптимизации параметров.\n",
    "\n",
    "\n",
    "#### Визуализация в решении:\n",
    "- распределение признаков;\n",
    "- распределение целевой переменной;\n",
    "- эволюция функции ошибки и выбранных метрик качества по ходу обучения.\n",
    "\n",
    "#### Выводы (в форме текста!)\n",
    "- вывод о том, насколько модель подходит для описания данных\n",
    "- вывод о достаточности или избыточности данных для оценки параметров модели\n",
    "- вывод о соотношении выразительности модели и ее обобщающей способности (наблюдаются ли явления переобучения или недообучения).\n",
    "\n",
    "Примечания:<br />\n",
    "Допустимо порождение признаков (полиномиальных, экспоненциальных, логарифмических, etc.)<br />\n",
    "Реализация линейной регрессии может быть написана только с использованием библиотеки Numpy. Решения с использованием библиотек автоматического вычисления градиентов не засчитываются.<br />\n",
    "Из готовых реализаций (напр., из пакета scikit-learn) в этом задании допускается использовать только порождение полиномиальных признаков `PolynomialFeatures`."
   ]
  },
  {
   "cell_type": "raw",
   "metadata": {},
   "source": []
  },
  {
   "cell_type": "markdown",
   "metadata": {},
   "source": [
    "Данные находятся в следующих файлах:\n",
    "\n",
    "Признаковое описание объектов обучающей выборки - в файле X_train.npy\n",
    "\n",
    "Значения целевой переменной на обучающей выборке - в файле y_train.npy"
   ]
  },
  {
   "cell_type": "markdown",
   "metadata": {},
   "source": [
    "Способ чтения данных из файлов *.npy :\n",
    "\n",
    "```\n",
    "import numpy as np\n",
    "data = np.load('/path/to/filename.npy')\n",
    "```"
   ]
  },
  {
   "cell_type": "raw",
   "metadata": {},
   "source": []
  },
  {
   "cell_type": "markdown",
   "metadata": {},
   "source": [
    "### Примечание на предмет реализации градиента функции потерь\n",
    "\n",
    "Нелишним будет вспомнить способ вычисления градиента сложной функции. Здесь функция ошибки (обозначено как $\\mathscr{L}$) представлена как сложная функция $\\mathscr{L}\\left( G\\left( \\theta \\right) \\right)$. Для простоты приведена сразу матричная запись.\n",
    "\n",
    "$$\n",
    "\\nabla_{\\theta}{\\mathscr{L}} = \\nabla_{\\theta}{G}\\cdot\\left(\\nabla_{G}{\\mathscr{L}}\\right)\n",
    "$$\n",
    "\n",
    "В качестве шпаргалки можно подсмотреть правила матричного дифференцирования <a href=\"https://www.math.uwaterloo.ca/~hwolkowi/matrixcookbook.pdf\">здесь</a>\n",
    "\n",
    "Например, в случае функции потерь MSE это может выглядеть следующим образом:\n",
    "\n",
    "$$\n",
    "\\nabla_{\\theta}{\\mathscr{L}} = X^T\\cdot2\\left(X\\theta - Y\\right)\n",
    "$$\n",
    "\n",
    "\n",
    "При этом логически имеет смысл реализовать компоненту градиента, относящуюся собственно к функции потерь $\\nabla_{G}{\\mathscr{L}}$ - в коде класса функции потерь, а компоненту, относящуюся к модели $\\nabla_{\\theta}{G}$ - в коде модели.\n",
    "\n",
    "Именно поэтому классы `loss` и `linear_regression` в предложенном шаблоне реализованы наследующими `Differentiable` - для общности восприятия этих модулей как дифференцируемых по своим аргументам."
   ]
  },
  {
   "cell_type": "markdown",
   "metadata": {},
   "source": [
    "# Дз 1"
   ]
  },
  {
   "cell_type": "markdown",
   "metadata": {},
   "source": [
    "Перед нами стоит задача обучить линейную регрессию и проверить её валидность, т.е. хорошо ли и как хорошо она описывает наши данные. В своём решении я пользуюсь метрикой MSE, оценивать качество буду коэфициентом детерминации. "
   ]
  },
  {
   "cell_type": "code",
   "execution_count": null,
   "metadata": {},
   "outputs": [],
   "source": []
  },
  {
   "cell_type": "code",
   "execution_count": 54,
   "metadata": {},
   "outputs": [],
   "source": [
    "import numpy as np\n",
    "import random\n",
    "from tqdm.notebook import tqdm"
   ]
  },
  {
   "cell_type": "code",
   "execution_count": 55,
   "metadata": {},
   "outputs": [],
   "source": [
    "%matplotlib inline"
   ]
  },
  {
   "cell_type": "code",
   "execution_count": 56,
   "metadata": {},
   "outputs": [],
   "source": [
    "import matplotlib.pyplot as plt"
   ]
  },
  {
   "cell_type": "code",
   "execution_count": 57,
   "metadata": {},
   "outputs": [],
   "source": [
    "Xtr = np.load('./X_train.npy')\n",
    "ytr = np.load('./y_train.npy')"
   ]
  },
  {
   "cell_type": "code",
   "execution_count": 58,
   "metadata": {},
   "outputs": [],
   "source": [
    "# Нормализация - приведение к отрезку [0, 1]\n",
    "# с ней минимальный loss был ~ 45\n",
    "Xtr = Xtr - Xtr.min(axis=0)\n",
    "Xtr = Xtr / Xtr.max(axis=0)"
   ]
  },
  {
   "cell_type": "code",
   "execution_count": 59,
   "metadata": {},
   "outputs": [],
   "source": [
    "# Нормализация - стандартизация\n",
    "# здесь минимальный лос доходил до ~ 3\n",
    "Xtr = (Xtr - Xtr.mean(axis=0)) / Xtr.std(axis=0)"
   ]
  },
  {
   "cell_type": "markdown",
   "metadata": {},
   "source": [
    "### Визуализация распределения признаков"
   ]
  },
  {
   "cell_type": "markdown",
   "metadata": {},
   "source": [
    "Из визуализации распределения признаков мы можем сделать вывод о их корреляции"
   ]
  },
  {
   "cell_type": "code",
   "execution_count": 60,
   "metadata": {},
   "outputs": [
    {
     "data": {
      "image/png": "[encoded data removed]",
      "text/plain": [
       "<Figure size 432x288 with 1 Axes>"
      ]
     },
     "metadata": {
      "needs_background": "light"
     },
     "output_type": "display_data"
    }
   ],
   "source": [
    "plt.hist(Xtr[:, 0])\n",
    "None"
   ]
  },
  {
   "cell_type": "code",
   "execution_count": 61,
   "metadata": {},
   "outputs": [
    {
     "data": {
      "image/png": "[encoded data removed]",
      "text/plain": [
       "<Figure size 432x288 with 1 Axes>"
      ]
     },
     "metadata": {
      "needs_background": "light"
     },
     "output_type": "display_data"
    }
   ],
   "source": [
    "plt.hist(Xtr[:, 1])\n",
    "None"
   ]
  },
  {
   "cell_type": "code",
   "execution_count": 62,
   "metadata": {},
   "outputs": [
    {
     "data": {
      "image/png": "[encoded data removed]",
      "text/plain": [
       "<Figure size 432x288 with 1 Axes>"
      ]
     },
     "metadata": {
      "needs_background": "light"
     },
     "output_type": "display_data"
    }
   ],
   "source": [
    "plt.hist(Xtr[:, 2])\n",
    "None"
   ]
  },
  {
   "cell_type": "code",
   "execution_count": 63,
   "metadata": {},
   "outputs": [
    {
     "data": {
      "image/png": "[encoded data removed]",
      "text/plain": [
       "<Figure size 432x288 with 1 Axes>"
      ]
     },
     "metadata": {
      "needs_background": "light"
     },
     "output_type": "display_data"
    }
   ],
   "source": [
    "plt.hist(Xtr[:, 3])\n",
    "None"
   ]
  },
  {
   "cell_type": "markdown",
   "metadata": {},
   "source": [
    "У нас прослеживается корреляция только между первым и вторым признаками,\n",
    "поэтому от отдного из них мы избавимся. Между другими зависимости замечено \n",
    "не было, их оставляем как есть"
   ]
  },
  {
   "cell_type": "code",
   "execution_count": 64,
   "metadata": {},
   "outputs": [],
   "source": [
    "# удаляем первый столбец в матрице\n",
    "Xtr = np.delete(Xtr, 0, axis=1)"
   ]
  },
  {
   "cell_type": "code",
   "execution_count": 65,
   "metadata": {},
   "outputs": [],
   "source": [
    "# добавляем фиктивный признак в Xtr для того,\n",
    "# чтобы был свободный член в коеф. тета \n",
    "additional = [[1] for i in range(Xtr.shape[0])]\n",
    "Xtr = np.append(Xtr, additional, axis=1)"
   ]
  },
  {
   "cell_type": "markdown",
   "metadata": {},
   "source": [
    "### Разбиваем на обучающую и тестовые выборки "
   ]
  },
  {
   "cell_type": "code",
   "execution_count": 66,
   "metadata": {},
   "outputs": [],
   "source": [
    "from sklearn.model_selection import train_test_split\n",
    "X_train, X_test, y_train, y_test = train_test_split(Xtr, ytr, test_size=0.15)"
   ]
  },
  {
   "cell_type": "markdown",
   "metadata": {},
   "source": [
    "### Реализация классов линейной регрессии"
   ]
  },
  {
   "cell_type": "code",
   "execution_count": 67,
   "metadata": {},
   "outputs": [],
   "source": [
    "class Differentiable:\n",
    "    def __init__(self):\n",
    "        pass\n",
    "    \n",
    "    def forward(self, **kwargs):\n",
    "        raise NotImplementedError()\n",
    "    \n",
    "    def backward(self, **kwargs):\n",
    "        raise NotImplementedError()"
   ]
  },
  {
   "cell_type": "code",
   "execution_count": 68,
   "metadata": {},
   "outputs": [],
   "source": [
    "class loss(Differentiable):\n",
    "    def __init__(self):\n",
    "        super(loss, self).__init__()\n",
    "    \n",
    "    def forward(self, y_pred, y_true):\n",
    "        # Этот метод реализует вычисление значения функции потерь\n",
    "        loss_value = (y_true - y_pred)**2\n",
    "        return sum(loss_value) / y_true.shape[0]\n",
    "    \n",
    "    \n",
    "    def backward(self, y_pred, y_true):\n",
    "        # Этот метод реализует вычисление градиента функции потерь по аргументу y_pred\n",
    "        partial_grad = y_pred - y_true\n",
    "        return partial_grad"
   ]
  },
  {
   "cell_type": "code",
   "execution_count": 69,
   "metadata": {},
   "outputs": [],
   "source": [
    "class linear_regression(Differentiable):\n",
    "    def __init__(self):\n",
    "        super(linear_regression, self).__init__()\n",
    "        self.theta = None\n",
    "    \n",
    "    def __call__(self, X):\n",
    "        # этот метод предназначен для вычисления значения целевой переменной\n",
    "        return self.forward(X)\n",
    "    \n",
    "    def backward(self, X):\n",
    "        # Этот метод реализует вычисление компоненты градиента функции потерь\n",
    "        partial_grad = X.T\n",
    "        return partial_grad\n",
    "    \n",
    "    def forward(self, X):\n",
    "        # этот метод предназначен для применения модели к данным\n",
    "        assert X.ndim == 2, \"X should be 2-dimensional: (N of objects, n of features)\"\n",
    "        \n",
    "        if (self.theta is None):\n",
    "            # Если вектор параметров еще не инициализирован, его следует инициализировать\n",
    "            self.theta = np.random.sample(X.shape[1])\n",
    "            self.theta = self.theta.reshape((X.shape[1], 1))\n",
    "            \n",
    "        y_pred = np.dot(X, self.theta)\n",
    "        return y_pred"
   ]
  },
  {
   "cell_type": "code",
   "execution_count": 70,
   "metadata": {},
   "outputs": [],
   "source": [
    "def train_loop(X, y, model, loss_fn, epochs=100):\n",
    "    loss_history = np.array([])\n",
    "    pbar = tqdm(total=epochs)\n",
    "    # learnig rate\n",
    "    lr = 0.0001\n",
    "\n",
    "    for epoch in range(epochs):\n",
    "        # предсказываем нашей молелью выходной параметр\n",
    "        y_pred = model.forward(X)\n",
    "        loss_value = loss_fn.forward(y_pred, y)\n",
    "        \n",
    "        grad = lr * np.dot(model.backward(X), loss_fn.backward(y_pred, y))\n",
    "        model.theta -= grad\n",
    "        \n",
    "        loss_history = np.append(loss_history, loss_value)\n",
    "        pbar.update(1)\n",
    "        pbar.set_postfix({'loss': loss_value})\n",
    "        \n",
    "    pbar.close()\n",
    "    return loss_history"
   ]
  },
  {
   "cell_type": "markdown",
   "metadata": {},
   "source": [
    "### Обучение модели и построение графика Loss"
   ]
  },
  {
   "cell_type": "code",
   "execution_count": 71,
   "metadata": {},
   "outputs": [
    {
     "data": {
      "application/vnd.jupyter.widget-view+json": {
       "model_id": "1b90cf38686d40889a3dff88bd10cab0",
       "version_major": 2,
       "version_minor": 0
      },
      "text/plain": [
       "HBox(children=(FloatProgress(value=0.0, max=1000.0), HTML(value='')))"
      ]
     },
     "metadata": {},
     "output_type": "display_data"
    },
    {
     "name": "stdout",
     "output_type": "stream",
     "text": [
      "\n"
     ]
    }
   ],
   "source": [
    "obj_fn = loss()\n",
    "lr_model = linear_regression()\n",
    "loss_history = train_loop(X_train, y_train, lr_model, obj_fn, epochs=1000)"
   ]
  },
  {
   "cell_type": "markdown",
   "metadata": {},
   "source": [
    "Немного поигравшись с LR мы получаем минимальный Loss ~0.52 <p>\n",
    "Для этого мы удалили один из коррелирующий столбцов признаков, выставили lr = 0.0001. Стоит отметить, что при большем lr градиент улетал в бесконечность, а при меньших мы не достигали минимума ф-ции так быстро\n"
   ]
  },
  {
   "cell_type": "code",
   "execution_count": 72,
   "metadata": {
    "scrolled": true
   },
   "outputs": [
    {
     "data": {
      "text/plain": [
       "[<matplotlib.lines.Line2D at 0x2597f63a310>]"
      ]
     },
     "execution_count": 72,
     "metadata": {},
     "output_type": "execute_result"
    },
    {
     "data": {
      "image/png": "[encoded data removed]",
      "text/plain": [
       "<Figure size 432x288 with 1 Axes>"
      ]
     },
     "metadata": {
      "needs_background": "light"
     },
     "output_type": "display_data"
    }
   ],
   "source": [
    "x = np.linspace(0, 1000, 1000)\n",
    "plt.plot(x, loss_history)"
   ]
  },
  {
   "cell_type": "markdown",
   "metadata": {},
   "source": [
    "### Проверка качества модели"
   ]
  },
  {
   "cell_type": "code",
   "execution_count": 73,
   "metadata": {},
   "outputs": [
    {
     "name": "stdout",
     "output_type": "stream",
     "text": [
      "0.5148903982000679\n"
     ]
    }
   ],
   "source": [
    "y_pred = lr_model.forward(X_test)\n",
    "test_loss = obj_fn.forward(y_pred, y_test)[0]\n",
    "print(test_loss)"
   ]
  },
  {
   "cell_type": "code",
   "execution_count": 74,
   "metadata": {},
   "outputs": [
    {
     "name": "stdout",
     "output_type": "stream",
     "text": [
      "Test loss = 0.5148903982000679\n",
      "Train loss = 0.5281269973871218\n"
     ]
    }
   ],
   "source": [
    "print(\"Test loss = {}\".format(test_loss), end='\\n')\n",
    "print(\"Train loss = {}\".format(loss_history[-1]), end='\\n')"
   ]
  },
  {
   "cell_type": "code",
   "execution_count": 98,
   "metadata": {},
   "outputs": [
    {
     "name": "stdout",
     "output_type": "stream",
     "text": [
      "Test R2 metrics 0.9987214606899534\n"
     ]
    }
   ],
   "source": [
    "from sklearn.metrics import r2_score\n",
    "\n",
    "print(\"Test R2 metrics {}\".format(r2_score(y_test, y_pred)))"
   ]
  },
  {
   "cell_type": "markdown",
   "metadata": {},
   "source": [
    "В итоге мы видим, что потери на тестовой выборке почти такие же как на тренировочной. Делаем из этого вывод, что наша линейная регрессия не переобучилась и оценивает все признаки с хорошей точностью"
   ]
  },
  {
   "cell_type": "markdown",
   "metadata": {},
   "source": [
    "### Вывод"
   ]
  },
  {
   "cell_type": "markdown",
   "metadata": {},
   "source": [
    "Наша модель прекрасно подходит для описания получаемых нами данных, как можно увидеть из данных о loss <p>\n",
    "Данных нам было передано изботочное количество, потому что два признака коррелировали и от одного нам было необходимо избавляться. Так же как видно из графика loss мы могли бы достичь того же результата даже при много меньшем числе данных <P>\n",
    "При проверке на test выборке переобучения не было обнаружено, модель хорошо справляется со всеми видами признаков. "
   ]
  }
 ],
 "metadata": {
  "kernelspec": {
   "display_name": "Python 3",
   "language": "python",
   "name": "python3"
  },
  "language_info": {
   "codemirror_mode": {
    "name": "ipython",
    "version": 3
   },
   "file_extension": ".py",
   "mimetype": "text/x-python",
   "name": "python",
   "nbconvert_exporter": "python",
   "pygments_lexer": "ipython3",
   "version": "3.8.3"
  }
 },
 "nbformat": 4,
 "nbformat_minor": 2
}
